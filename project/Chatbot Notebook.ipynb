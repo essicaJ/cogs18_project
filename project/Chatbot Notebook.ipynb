{
 "cells": [
  {
   "cell_type": "markdown",
   "metadata": {},
   "source": [
    "# Project Description:\n",
    "\n",
    "For this project, I created a chatbot that talk about Psychology majors that UCSD provides. It can give user information about a Psychology specialization's basic information such as major name, code, summary. Moreover, it can also give user courses that satisfy lower division and upper division requirement of the major specialization user is asking about. This allows students who are interested in majoring psychology to learn facts and courses about UCSD Psychology majors. \n",
    "\n",
    "Through out the project, I tried my best to follow Pyhton style guide as well as provide user with clear documentatoin about my code. This project can be improved by allowing user to input more varied message instead of fixed characters to get the information they need. \n",
    "\n",
    "Hope you enjoy this chatbot and learning about psych majors!"
   ]
  },
  {
   "cell_type": "markdown",
   "metadata": {},
   "source": [
    "# Project Code:"
   ]
  },
  {
   "cell_type": "code",
   "execution_count": 1,
   "metadata": {},
   "outputs": [],
   "source": [
    "from my_module.my_functions import *"
   ]
  },
  {
   "cell_type": "code",
   "execution_count": 2,
   "metadata": {},
   "outputs": [
    {
     "name": "stdout",
     "output_type": "stream",
     "text": [
      "Welcome to Psychology Majors Chatbot! Here you can find all information you want for UCSD Psych majors! \n",
      "What do you want to know? \n",
      "Start by typing in 'Psychology', 'Business Psychology', 'Clinical Psychology', 'Cognitive Psychology','Developmental Psychology', 'Human Health Psychology', 'Sensation Perception Psychology','Social Psychology', or 'Cognitive Behavioral Neuroscience'. \n",
      "if instead, you want course requirements of specific major, type in 'major name + courses'. \n",
      "Type 'quit', 'bye', or 'ok' to exit.\n",
      "INPUT :\t\n",
      "Bye! Have a nice day!\n"
     ]
    }
   ],
   "source": [
    "talk_psych()"
   ]
  },
  {
   "cell_type": "code",
   "execution_count": 9,
   "metadata": {},
   "outputs": [],
   "source": [
    "from my_module.test_functions import *"
   ]
  },
  {
   "cell_type": "code",
   "execution_count": 10,
   "metadata": {},
   "outputs": [],
   "source": [
    "test_major_info()"
   ]
  },
  {
   "cell_type": "code",
   "execution_count": 11,
   "metadata": {},
   "outputs": [],
   "source": [
    "test_major_course()"
   ]
  },
  {
   "cell_type": "markdown",
   "metadata": {},
   "source": [
    "github extra credit link: "
   ]
  }
 ],
 "metadata": {
  "kernelspec": {
   "display_name": "Python 3",
   "language": "python",
   "name": "python3"
  },
  "language_info": {
   "codemirror_mode": {
    "name": "ipython",
    "version": 3
   },
   "file_extension": ".py",
   "mimetype": "text/x-python",
   "name": "python",
   "nbconvert_exporter": "python",
   "pygments_lexer": "ipython3",
   "version": "3.6.7"
  }
 },
 "nbformat": 4,
 "nbformat_minor": 2
}
